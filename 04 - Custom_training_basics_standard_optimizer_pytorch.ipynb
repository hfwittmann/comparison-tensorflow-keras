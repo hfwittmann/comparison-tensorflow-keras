{
 "cells": [
  {
   "cell_type": "markdown",
   "metadata": {
    "colab_type": "text",
    "id": "HmkJdm_uJ1eN"
   },
   "source": [
    "# <font color=\"yellow\">Remarks</font>\n",
    "This notebook is a pytorch-implementation based on a Tutorial notebook on the tensorflow web site.\n",
    "\n",
    "1.\tCustom training: basics  |  TensorFlow. TensorFlow. https://www.tensorflow.org/tutorials/eager/custom_training. Published December 17, 2018. Accessed December 29, 2018.\n",
    "\n",
    "You can find some more insformation on eager execution, also on Tensorflow's website:\n",
    "2.\tEager Execution  |  TensorFlow. TensorFlow. https://www.tensorflow.org/guide/eager. Published December 12, 2018. Accessed December 29, 2018.\n",
    "\n",
    "\n",
    "\n",
    "<font color=\"yellow\">We have marked sections that have differences with the original workbook in yellow</font>.\n",
    "    \n",
    "Author: H. Felix Wittmann\n",
    "hfwittmann@gmail.com\n",
    "\n",
    "There is no association between the author and Tensorflow.\n"
   ]
  },
  {
   "cell_type": "code",
   "execution_count": 1,
   "metadata": {},
   "outputs": [],
   "source": [
    "#@title Licensed under the Apache License, Version 2.0 (the \"License\");\n",
    "# you may not use this file except in compliance with the License.\n",
    "# You may obtain a copy of the License at\n",
    "#\n",
    "# https://www.apache.org/licenses/LICENSE-2.0\n",
    "#\n",
    "# Unless required by applicable law or agreed to in writing, software\n",
    "# distributed under the License is distributed on an \"AS IS\" BASIS,\n",
    "# WITHOUT WARRANTIES OR CONDITIONS OF ANY KIND, either express or implied.\n",
    "# See the License for the specific language governing permissions and\n",
    "# limitations under the License."
   ]
  },
  {
   "cell_type": "markdown",
   "metadata": {},
   "source": [
    "# Custom training: basics"
   ]
  },
  {
   "cell_type": "code",
   "execution_count": 2,
   "metadata": {},
   "outputs": [],
   "source": [
    "import torch\n",
    "assert torch.tensor(1.0) == 1.0, \"Converting 1.0 to torch tensor, should match\"\n",
    "assert torch.tensor(1.0).numpy() == 1.0, \"Converting 1.0 to torch tensor, then back to numpy, should match\""
   ]
  },
  {
   "cell_type": "markdown",
   "metadata": {},
   "source": [
    "##  <font color='yellow'> Define torch model </font>"
   ]
  },
  {
   "cell_type": "code",
   "execution_count": 3,
   "metadata": {},
   "outputs": [],
   "source": [
    "class Net(torch.nn.Module):\n",
    "    def __init__(self: torch.nn):\n",
    "        super(Net, self).__init__()\n",
    "        \n",
    "        \n",
    "        mylayer = torch.nn.Linear(1,1)\n",
    "        # initialise values .. to make results deterministic\n",
    "        mylayer.bias = torch.nn.Parameter(torch.tensor([0.0]))\n",
    "        mylayer.weight = torch.nn.Parameter(torch.tensor([[5.0]]))\n",
    "        \n",
    "        self.net = torch.nn.Sequential(\n",
    "            mylayer\n",
    "        )      \n",
    "    \n",
    "    def forward(self: torch.nn, x):\n",
    "        return self.net(x)\n"
   ]
  },
  {
   "cell_type": "markdown",
   "metadata": {},
   "source": [
    "###  <font color='yellow'> Check initialisation </font>"
   ]
  },
  {
   "cell_type": "code",
   "execution_count": 4,
   "metadata": {},
   "outputs": [
    {
     "name": "stdout",
     "output_type": "stream",
     "text": [
      "net.0.weight tensor([[5.]])\n",
      "net.0.bias tensor([0.])\n"
     ]
    }
   ],
   "source": [
    "myNet = Net()\n",
    "# https://discuss.pytorch.org/t/how-to-print-models-parameters-with-its-name-and-requires-grad-value/10778\n",
    "for name, param in myNet.named_parameters():\n",
    "    if param.requires_grad:\n",
    "        print (name, param.data)"
   ]
  },
  {
   "cell_type": "markdown",
   "metadata": {
    "colab_type": "text",
    "id": "qutT_fkl_CBc"
   },
   "source": [
    "### <font color='yellow'>Obtain training data</font>\n",
    "\n",
    "Let's synthesize the training data with some noise."
   ]
  },
  {
   "cell_type": "code",
   "execution_count": 5,
   "metadata": {
    "colab": {},
    "colab_type": "code",
    "id": "gxPTb-kt_N5m"
   },
   "outputs": [],
   "source": [
    "import numpy as np\n",
    "nOfDatapoints = 1000\n",
    "W_TRUE, b_TRUE = 3.0, 2.0\n",
    "np.random.seed(314)\n",
    "inputs = np.random.normal(size=nOfDatapoints)\n",
    "noise = np.random.normal(size=nOfDatapoints)\n",
    "outputs = W_TRUE * inputs + b_TRUE + noise"
   ]
  },
  {
   "cell_type": "markdown",
   "metadata": {
    "colab_type": "text",
    "id": "338O_6hLJ1en"
   },
   "source": [
    "### <font color='yellow'>Split into train/test</font>"
   ]
  },
  {
   "cell_type": "code",
   "execution_count": 6,
   "metadata": {
    "colab": {},
    "colab_type": "code",
    "id": "oVTAxvNXJ1eo"
   },
   "outputs": [],
   "source": [
    "from sklearn.model_selection import train_test_split\n",
    "inputs_train, inputs_test, outputs_train, outputs_test = \\\n",
    "    train_test_split(inputs, outputs, test_size=0.33, random_state=42)\n",
    "# outputs = outputs.reshape(-1,1)  # reshape to match keras output"
   ]
  },
  {
   "cell_type": "code",
   "execution_count": 7,
   "metadata": {
    "colab": {},
    "colab_type": "code",
    "id": "_eb83LtrB4nt"
   },
   "outputs": [
    {
     "data": {
      "text/plain": [
       "<matplotlib.legend.Legend at 0x11c109f28>"
      ]
     },
     "execution_count": 7,
     "metadata": {},
     "output_type": "execute_result"
    }
   ],
   "source": [
    "import matplotlib.pyplot as plt\n",
    "from jupyterthemes import jtplot\n",
    "jtplot.style()\n",
    "\n",
    "plt.scatter(inputs,outputs,c='b', alpha=0.5, label='Data')\n",
    "plt.scatter(inputs_train, outputs_train, c='y', alpha=0.2, label='Train')\n",
    "plt.scatter(inputs_test, outputs_test, c='g', alpha=0.2, label='Test')\n",
    "plt.legend()## Explore data und Model"
   ]
  },
  {
   "cell_type": "markdown",
   "metadata": {
    "colab_type": "text",
    "id": "ibyLqh9sJ1es"
   },
   "source": [
    "### <font color='yellow'>Explore data und Model before training</font>"
   ]
  },
  {
   "cell_type": "markdown",
   "metadata": {
    "colab_type": "text",
    "id": "-50nq-wPBsAW"
   },
   "source": [
    "Before we train the model let's visualize where the model stands right now. We'll plot the model's predictions in black and the testting data in blue."
   ]
  },
  {
   "cell_type": "code",
   "execution_count": 20,
   "metadata": {
    "colab": {},
    "colab_type": "code",
    "id": "xfTqJZkcJ1eu"
   },
   "outputs": [
    {
     "data": {
      "image/png": "[encoded data removed]",
      "text/plain": [
       "<Figure size 432x288 with 1 Axes>"
      ]
     },
     "metadata": {
      "needs_background": "dark"
     },
     "output_type": "display_data"
    }
   ],
   "source": [
    "mynet = Net()\n",
    "\n",
    "prediction_test = mynet(torch.Tensor([inputs_test]).transpose_(0, 1)).detach().numpy()\n",
    "plt.scatter(inputs_test, outputs_test, c = 'b', alpha=0.5, label = 'Test Data')\n",
    "plt.scatter(inputs_test, prediction_test, c = 'k', alpha=0.5, label = 'Initial Model Guess')\n",
    "plt.legend()\n",
    "plt.show()"
   ]
  },
  {
   "cell_type": "markdown",
   "metadata": {},
   "source": [
    "# Set up loss function"
   ]
  },
  {
   "cell_type": "code",
   "execution_count": 21,
   "metadata": {},
   "outputs": [],
   "source": [
    "from tensorboardX import SummaryWriter\n",
    "\n",
    "objective = torch.nn.MSELoss(reduce=True)\n",
    "optimizer = torch.optim.SGD(params=mynet.parameters(), lr=0.1)\n",
    "writer = SummaryWriter(comment='-regression-tutorial')"
   ]
  },
  {
   "cell_type": "markdown",
   "metadata": {},
   "source": [
    "### Check"
   ]
  },
  {
   "cell_type": "code",
   "execution_count": 22,
   "metadata": {},
   "outputs": [
    {
     "data": {
      "text/plain": [
       "(tensor(9.3949, grad_fn=<MseLossBackward>),\n",
       " tensor(9.3949, grad_fn=<MeanBackward1>),\n",
       " 9.394942704256383)"
      ]
     },
     "execution_count": 22,
     "metadata": {},
     "output_type": "execute_result"
    }
   ],
   "source": [
    "prediction_v = mynet( torch.Tensor([inputs_test]).transpose_(0,1))\n",
    "outputs_v = torch.Tensor([outputs_test]).transpose_(0,1)\n",
    "objective(prediction_v, outputs_v), ((outputs_v- prediction_v)**2).mean(), ((outputs_test.reshape(-1,1)- prediction_test)**2).mean()"
   ]
  },
  {
   "cell_type": "markdown",
   "metadata": {},
   "source": [
    "# Do optimisation"
   ]
  },
  {
   "cell_type": "code",
   "execution_count": 23,
   "metadata": {},
   "outputs": [
    {
     "name": "stdout",
     "output_type": "stream",
     "text": [
      "0: loss=9.306\n",
      "1: loss=6.285\n",
      "2: loss=4.368\n",
      "3: loss=3.151\n",
      "4: loss=2.379\n",
      "5: loss=1.889\n",
      "6: loss=1.578\n",
      "7: loss=1.380\n",
      "8: loss=1.255\n",
      "9: loss=1.175\n"
     ]
    }
   ],
   "source": [
    "batchsize = len(inputs_train)\n",
    "epochs = 10\n",
    "for ix in range(epochs):\n",
    "    optimizer.zero_grad()\n",
    "    prediction_v = mynet( torch.Tensor([inputs_train]).transpose_(0,1))\n",
    "    outputs_v = torch.Tensor([outputs_train]).transpose_(0,1)\n",
    "    \n",
    "    loss_v = objective(prediction_v, outputs_v)\n",
    "    loss_v.backward()\n",
    "    optimizer.step()\n",
    "    \n",
    "    print(\"%d: loss=%.3f\" % (ix, loss_v.item()))\n",
    "    writer.add_scalar('loss', loss_v.item(), ix)\n",
    "    \n",
    "    "
   ]
  },
  {
   "cell_type": "code",
   "execution_count": null,
   "metadata": {},
   "outputs": [],
   "source": []
  },
  {
   "cell_type": "markdown",
   "metadata": {
    "colab_type": "text",
    "id": "ibyLqh9sJ1es"
   },
   "source": [
    "### <font color='yellow'>Explore data und Model after training</font>"
   ]
  },
  {
   "cell_type": "markdown",
   "metadata": {
    "colab_type": "text",
    "id": "-50nq-wPBsAW"
   },
   "source": [
    "Before we train the model let's visualize where the model stands right now. We'll plot the model's predictions in black and the testting data in blue."
   ]
  },
  {
   "cell_type": "code",
   "execution_count": 24,
   "metadata": {
    "colab": {},
    "colab_type": "code",
    "id": "xfTqJZkcJ1eu"
   },
   "outputs": [
    {
     "data": {
      "image/png": "[encoded data removed]",
      "text/plain": [
       "<Figure size 432x288 with 1 Axes>"
      ]
     },
     "metadata": {
      "needs_background": "dark"
     },
     "output_type": "display_data"
    }
   ],
   "source": [
    "prediction_test = mynet(torch.Tensor([inputs_test]).transpose_(0, 1)).detach().numpy()\n",
    "plt.scatter(inputs_test, outputs_test, c = 'b', alpha=0.5, label = 'Test Data')\n",
    "plt.scatter(inputs_test, prediction_test, c = 'k', alpha=0.5, label = 'Initial Model Guess')\n",
    "plt.legend()\n",
    "plt.show()"
   ]
  },
  {
   "cell_type": "code",
   "execution_count": null,
   "metadata": {},
   "outputs": [],
   "source": []
  },
  {
   "cell_type": "code",
   "execution_count": null,
   "metadata": {},
   "outputs": [],
   "source": []
  }
 ],
 "metadata": {
  "kernelspec": {
   "display_name": "Python 3",
   "language": "python",
   "name": "python3"
  },
  "language_info": {
   "codemirror_mode": {
    "name": "ipython",
    "version": 3
   },
   "file_extension": ".py",
   "mimetype": "text/x-python",
   "name": "python",
   "nbconvert_exporter": "python",
   "pygments_lexer": "ipython3",
   "version": "3.6.7"
  },
  "toc": {
   "base_numbering": 1,
   "nav_menu": {},
   "number_sections": true,
   "sideBar": true,
   "skip_h1_title": false,
   "title_cell": "Table of Contents",
   "title_sidebar": "Contents",
   "toc_cell": false,
   "toc_position": {},
   "toc_section_display": true,
   "toc_window_display": false
  },
  "varInspector": {
   "cols": {
    "lenName": 16,
    "lenType": 16,
    "lenVar": 40
   },
   "kernels_config": {
    "python": {
     "delete_cmd_postfix": "",
     "delete_cmd_prefix": "del ",
     "library": "var_list.py",
     "varRefreshCmd": "print(var_dic_list())"
    },
    "r": {
     "delete_cmd_postfix": ") ",
     "delete_cmd_prefix": "rm(",
     "library": "var_list.r",
     "varRefreshCmd": "cat(var_dic_list()) "
    }
   },
   "types_to_exclude": [
    "module",
    "function",
    "builtin_function_or_method",
    "instance",
    "_Feature"
   ],
   "window_display": false
  }
 },
 "nbformat": 4,
 "nbformat_minor": 2
}
